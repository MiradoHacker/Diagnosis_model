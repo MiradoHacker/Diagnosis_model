{
 "cells": [
  {
   "cell_type": "code",
   "execution_count": 5,
   "id": "646a73e6",
   "metadata": {},
   "outputs": [],
   "source": [
    "import pandas as pd"
   ]
  },
  {
   "cell_type": "code",
   "execution_count": 3,
   "id": "69829f78",
   "metadata": {},
   "outputs": [],
   "source": [
    "from joblib import load"
   ]
  },
  {
   "cell_type": "code",
   "execution_count": 4,
   "id": "5dfba51d",
   "metadata": {},
   "outputs": [
    {
     "name": "stderr",
     "output_type": "stream",
     "text": [
      "C:\\Users\\loick\\AppData\\Roaming\\Python\\Python313\\site-packages\\sklearn\\base.py:440: InconsistentVersionWarning: Trying to unpickle estimator DecisionTreeClassifier from version 1.6.1 when using version 1.7.0. This might lead to breaking code or invalid results. Use at your own risk. For more info please refer to:\n",
      "https://scikit-learn.org/stable/model_persistence.html#security-maintainability-limitations\n",
      "  warnings.warn(\n",
      "C:\\Users\\loick\\AppData\\Roaming\\Python\\Python313\\site-packages\\sklearn\\base.py:440: InconsistentVersionWarning: Trying to unpickle estimator RandomForestClassifier from version 1.6.1 when using version 1.7.0. This might lead to breaking code or invalid results. Use at your own risk. For more info please refer to:\n",
      "https://scikit-learn.org/stable/model_persistence.html#security-maintainability-limitations\n",
      "  warnings.warn(\n"
     ]
    }
   ],
   "source": [
    "model, x_train = load('diagnosis.joblib')"
   ]
  },
  {
   "cell_type": "code",
   "execution_count": 1,
   "id": "f0d08bb3",
   "metadata": {},
   "outputs": [],
   "source": [
    "def make_prediction(model, feature_names):\n",
    "  take_input = dict()\n",
    "  for f in feature_names:\n",
    "    value = input(f'{f}[0: No/1: Yes]: ')\n",
    "    take_input[f] = int(value)\n",
    "  input_df = pd.DataFrame([take_input])\n",
    "  prediction = model.predict(input_df)\n",
    "  return prediction"
   ]
  },
  {
   "cell_type": "code",
   "execution_count": 7,
   "id": "de351c9a",
   "metadata": {},
   "outputs": [
    {
     "name": "stdout",
     "output_type": "stream",
     "text": [
      "Predicted prognosis: Hypoglycemia\n"
     ]
    }
   ],
   "source": [
    "feature_names = x_train.columns\n",
    "prediction = make_prediction(model, feature_names)\n",
    "print(f'Predicted prognosis: {prediction[0]}')"
   ]
  },
  {
   "cell_type": "code",
   "execution_count": null,
   "id": "1fb1c873",
   "metadata": {},
   "outputs": [],
   "source": []
  }
 ],
 "metadata": {
  "kernelspec": {
   "display_name": "Python 3",
   "language": "python",
   "name": "python3"
  },
  "language_info": {
   "codemirror_mode": {
    "name": "ipython",
    "version": 3
   },
   "file_extension": ".py",
   "mimetype": "text/x-python",
   "name": "python",
   "nbconvert_exporter": "python",
   "pygments_lexer": "ipython3",
   "version": "3.13.1"
  }
 },
 "nbformat": 4,
 "nbformat_minor": 5
}
